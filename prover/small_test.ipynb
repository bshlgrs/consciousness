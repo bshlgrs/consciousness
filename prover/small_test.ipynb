{
 "cells": [
  {
   "cell_type": "code",
   "execution_count": 2,
   "metadata": {
    "collapsed": false,
    "deletable": true,
    "editable": true
   },
   "outputs": [
    {
     "data": {
      "text/plain": [
       "'; benchmark generated from python API\\n(set-info :status unknown)\\n(declare-sort Human)\\n(declare-fun is_mortal (Human) Bool)\\n(assert\\n (forall ((h Human) )(and (is_mortal h) (not (is_mortal h))))\\n)\\n(check-sat)\\n'"
      ]
     },
     "execution_count": 2,
     "metadata": {},
     "output_type": "execute_result"
    }
   ],
   "source": [
    "from z3 import *\n",
    "from z3_helper import Z3Helper\n",
    "\n",
    "Human = DeclareSort(\"Human\")\n",
    "is_mortal = Function(\"is_mortal\", Human, BoolSort())\n",
    "h = Const('h', Human)\n",
    "\n",
    "s = Solver()\n",
    "s.add([\n",
    "    ForAll([h], And(is_mortal(h), Not(is_mortal(h))))\n",
    "])\n",
    "\n",
    "s.to_smt2()\n"
   ]
  },
  {
   "cell_type": "code",
   "execution_count": null,
   "metadata": {
    "collapsed": true,
    "deletable": true,
    "editable": true
   },
   "outputs": [],
   "source": []
  }
 ],
 "metadata": {
  "kernelspec": {
   "display_name": "Python 2",
   "language": "python",
   "name": "python2"
  },
  "language_info": {
   "codemirror_mode": {
    "name": "ipython",
    "version": 2
   },
   "file_extension": ".py",
   "mimetype": "text/x-python",
   "name": "python",
   "nbconvert_exporter": "python",
   "pygments_lexer": "ipython2",
   "version": "2.7.13"
  }
 },
 "nbformat": 4,
 "nbformat_minor": 2
}
