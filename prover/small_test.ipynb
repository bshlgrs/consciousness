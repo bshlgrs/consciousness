{
 "cells": [
  {
   "cell_type": "code",
   "execution_count": 8,
   "metadata": {
    "collapsed": false,
    "deletable": true,
    "editable": true
   },
   "outputs": [],
   "source": [
    "from z3 import *\n",
    "from z3_helper import Z3Helper\n",
    "\n",
    "s = Solver()\n",
    "\n",
    "myForAll = Z3Helper.myforall\n",
    "myExists = Z3Helper.myexists\n",
    "\n",
    "axioms = []\n",
    "\n",
    "Quale = DeclareSort('Quale')\n",
    "Color = DeclareSort('Color')\n",
    "Agent = DeclareSort('Agent')\n",
    "current_quale = Function('current_quale', Agent, Quale)\n",
    "\n",
    "WorldFact = Datatype('WorldFact')\n",
    "WorldFact.declare('ExperienceFact', ('wf_agent', Agent), ('wf_quale', Quale))\n",
    "WorldFact.declare('WorldColorFact', ('wf_color', Color))\n",
    "WorldFact = WorldFact.create()\n",
    "ExperienceFact = WorldFact.ExperienceFact\n",
    "wf_agent = WorldFact.wf_agent\n",
    "wf_quale = WorldFact.wf_quale\n",
    "wf_color = WorldFact.wf_color"
   ]
  },
  {
   "cell_type": "code",
   "execution_count": 9,
   "metadata": {
    "collapsed": false,
    "deletable": true,
    "editable": true
   },
   "outputs": [
    {
     "data": {
      "text/plain": [
       "is_ExperienceFact"
      ]
     },
     "execution_count": 9,
     "metadata": {},
     "output_type": "execute_result"
    }
   ],
   "source": [
    "WorldFact.is_ExperienceFact"
   ]
  },
  {
   "cell_type": "code",
   "execution_count": 11,
   "metadata": {
    "collapsed": false
   },
   "outputs": [
    {
     "data": {
      "text/plain": [
       "List"
      ]
     },
     "execution_count": 11,
     "metadata": {},
     "output_type": "execute_result"
    }
   ],
   "source": [
    "List"
   ]
  },
  {
   "cell_type": "code",
   "execution_count": null,
   "metadata": {
    "collapsed": true
   },
   "outputs": [],
   "source": []
  }
 ],
 "metadata": {
  "kernelspec": {
   "display_name": "Python 2",
   "language": "python",
   "name": "python2"
  },
  "language_info": {
   "codemirror_mode": {
    "name": "ipython",
    "version": 2
   },
   "file_extension": ".py",
   "mimetype": "text/x-python",
   "name": "python",
   "nbconvert_exporter": "python",
   "pygments_lexer": "ipython2",
   "version": "2.7.13"
  }
 },
 "nbformat": 4,
 "nbformat_minor": 2
}
