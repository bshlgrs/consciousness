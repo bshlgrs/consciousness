{
 "cells": [
  {
   "cell_type": "code",
   "execution_count": 1,
   "metadata": {
    "collapsed": false,
    "deletable": true,
    "editable": true
   },
   "outputs": [
    {
     "ename": "ImportError",
     "evalue": "No module named prover.z3_prover",
     "output_type": "error",
     "traceback": [
      "\u001b[0;31m---------------------------------------------------------------------------\u001b[0m",
      "\u001b[0;31mImportError\u001b[0m                               Traceback (most recent call last)",
      "\u001b[0;32m<ipython-input-1-71fe862260c6>\u001b[0m in \u001b[0;36m<module>\u001b[0;34m()\u001b[0m\n\u001b[0;32m----> 1\u001b[0;31m \u001b[0;32mimport\u001b[0m \u001b[0mprover\u001b[0m\u001b[0;34m.\u001b[0m\u001b[0mz3_prover\u001b[0m\u001b[0;34m\u001b[0m\u001b[0m\n\u001b[0m",
      "\u001b[0;31mImportError\u001b[0m: No module named prover.z3_prover"
     ]
    }
   ],
   "source": [
    "import prover.z3_prover"
   ]
  },
  {
   "cell_type": "code",
   "execution_count": 9,
   "metadata": {
    "collapsed": false,
    "deletable": true,
    "editable": true
   },
   "outputs": [],
   "source": [
    "def parse_sexpr(sexpr_str):\n",
    "    return recursive_descent(tokenize(sexpr_str))[0]\n",
    "\n",
    "def tokenize(sexpr_str):\n",
    "    return [x for x in sexpr_str.replace(\"(\", \" ( \")\n",
    "                     .replace(\")\", \" ) \")\n",
    "                      .split(\" \")\n",
    "                       if x]\n",
    "    \n",
    "def recursive_descent(tokens, idx=0):\n",
    "    sexpr = []\n",
    "\n",
    "    while idx < len(tokens):\n",
    "        token = tokens[idx]\n",
    "        if token == \")\":\n",
    "            return sexpr, idx + 1\n",
    "        if token == \"(\":\n",
    "            child_sexpr, new_idx = recursive_descent(tokens, idx + 1)\n",
    "            sexpr.append(child_sexpr)\n",
    "            idx = new_idx\n",
    "        else:\n",
    "            sexpr.append(token)\n",
    "            idx += 1\n",
    "    return tuple(sexpr)\n"
   ]
  },
  {
   "cell_type": "code",
   "execution_count": 10,
   "metadata": {
    "collapsed": false
   },
   "outputs": [
    {
     "data": {
      "text/plain": [
       "'('"
      ]
     },
     "execution_count": 10,
     "metadata": {},
     "output_type": "execute_result"
    }
   ],
   "source": [
    "parse_sexpr(\"(1 + 2)\")"
   ]
  },
  {
   "cell_type": "code",
   "execution_count": null,
   "metadata": {
    "collapsed": true
   },
   "outputs": [],
   "source": []
  }
 ],
 "metadata": {
  "kernelspec": {
   "display_name": "Python 2",
   "language": "python",
   "name": "python2"
  },
  "language_info": {
   "codemirror_mode": {
    "name": "ipython",
    "version": 2
   },
   "file_extension": ".py",
   "mimetype": "text/x-python",
   "name": "python",
   "nbconvert_exporter": "python",
   "pygments_lexer": "ipython2",
   "version": "2.7.13"
  }
 },
 "nbformat": 4,
 "nbformat_minor": 2
}
