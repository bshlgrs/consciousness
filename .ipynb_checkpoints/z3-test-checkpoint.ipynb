{
 "cells": [
  {
   "cell_type": "code",
   "execution_count": 7,
   "metadata": {
    "collapsed": false,
    "deletable": true,
    "editable": true
   },
   "outputs": [
    {
     "ename": "TypeError",
     "evalue": "Implies() takes at least 2 arguments (1 given)",
     "output_type": "error",
     "traceback": [
      "\u001b[0;31m---------------------------------------------------------------------------\u001b[0m",
      "\u001b[0;31mTypeError\u001b[0m                                 Traceback (most recent call last)",
      "\u001b[0;32m<ipython-input-7-ddf684707307>\u001b[0m in \u001b[0;36m<module>\u001b[0;34m()\u001b[0m\n\u001b[1;32m     48\u001b[0m \u001b[0;34m\u001b[0m\u001b[0m\n\u001b[1;32m     49\u001b[0m \u001b[0magent\u001b[0m \u001b[0;34m=\u001b[0m \u001b[0mAgent\u001b[0m\u001b[0;34m(\u001b[0m\u001b[0;34m)\u001b[0m\u001b[0;34m\u001b[0m\u001b[0m\n\u001b[0;32m---> 50\u001b[0;31m \u001b[0magent\u001b[0m\u001b[0;34m.\u001b[0m\u001b[0mcheck_forall\u001b[0m\u001b[0;34m(\u001b[0m\u001b[0;34m[\u001b[0m\u001b[0mHuman\u001b[0m\u001b[0;34m]\u001b[0m\u001b[0;34m,\u001b[0m \u001b[0;32mlambda\u001b[0m \u001b[0mx\u001b[0m\u001b[0;34m:\u001b[0m \u001b[0mMortal\u001b[0m\u001b[0;34m(\u001b[0m\u001b[0mx\u001b[0m\u001b[0;34m)\u001b[0m\u001b[0;34m)\u001b[0m\u001b[0;34m\u001b[0m\u001b[0m\n\u001b[0m",
      "\u001b[0;32m<ipython-input-7-ddf684707307>\u001b[0m in \u001b[0;36mcheck_forall\u001b[0;34m(self, types, claim)\u001b[0m\n\u001b[1;32m     43\u001b[0m         \u001b[0mvariables\u001b[0m \u001b[0;34m=\u001b[0m \u001b[0;34m[\u001b[0m\u001b[0mConst\u001b[0m\u001b[0;34m(\u001b[0m\u001b[0mletter\u001b[0m\u001b[0;34m,\u001b[0m \u001b[0mObject\u001b[0m\u001b[0;34m)\u001b[0m \u001b[0;32mfor\u001b[0m \u001b[0;34m(\u001b[0m\u001b[0mletter\u001b[0m\u001b[0;34m,\u001b[0m \u001b[0mtype\u001b[0m\u001b[0;34m)\u001b[0m \u001b[0;32min\u001b[0m \u001b[0mzip\u001b[0m\u001b[0;34m(\u001b[0m\u001b[0;34m\"abcdefg\"\u001b[0m\u001b[0;34m,\u001b[0m \u001b[0mtypes\u001b[0m\u001b[0;34m)\u001b[0m\u001b[0;34m]\u001b[0m\u001b[0;34m\u001b[0m\u001b[0m\n\u001b[1;32m     44\u001b[0m \u001b[0;34m\u001b[0m\u001b[0m\n\u001b[0;32m---> 45\u001b[0;31m         \u001b[0maxiom\u001b[0m \u001b[0;34m=\u001b[0m \u001b[0mImplies\u001b[0m\u001b[0;34m(\u001b[0m\u001b[0mAnd\u001b[0m\u001b[0;34m)\u001b[0m\u001b[0;34m\u001b[0m\u001b[0m\n\u001b[0m\u001b[1;32m     46\u001b[0m         \u001b[0mself\u001b[0m\u001b[0;34m.\u001b[0m\u001b[0msolver\u001b[0m\u001b[0;34m.\u001b[0m\u001b[0madd\u001b[0m\u001b[0;34m(\u001b[0m\u001b[0;34m)\u001b[0m\u001b[0;34m\u001b[0m\u001b[0m\n\u001b[1;32m     47\u001b[0m         \u001b[0;32mpass\u001b[0m\u001b[0;34m\u001b[0m\u001b[0m\n",
      "\u001b[0;31mTypeError\u001b[0m: Implies() takes at least 2 arguments (1 given)"
     ]
    }
   ],
   "source": [
    "from z3 import *\n",
    "\n",
    "set_param(proof=True)\n",
    "\n",
    "\n",
    "Object = DeclareSort('Object')\n",
    "\n",
    "Human = Function('Human', Object, BoolSort())\n",
    "Mortal = Function('Mortal', Object, BoolSort())\n",
    "        \n",
    "x = Const('x', Object)\n",
    "\n",
    "def test():\n",
    "    \n",
    "\n",
    "    # a well known philosopher \n",
    "    socrates = Const('socrates', Object)\n",
    "\n",
    "    # free variables used in forall must be declared Const in python\n",
    "    \n",
    "\n",
    "    axioms = [ForAll([x], Implies(Human(x), Mortal(x))), \n",
    "              Human(socrates)]\n",
    "\n",
    "    s = Solver()\n",
    "    s.add(axioms)\n",
    "\n",
    "    print(s.check()) # prints sat so axioms are coherents\n",
    "\n",
    "    # classical refutation\n",
    "    s.add(Not(Mortal(socrates)))\n",
    "\n",
    "    print(s.check()) # prints unsat so socrates is Mortal\n",
    "\n",
    "class Agent:\n",
    "    def __init__(self):\n",
    "        self.solver = Solver()\n",
    "        axioms = [ForAll([x], Implies(And(Human(x), Mortal(x)), Mortal(x)))]\n",
    "        \n",
    "        self.solver.add(axioms)\n",
    "        \n",
    "    def check_forall(self, types, claim):\n",
    "        variables = [Const(letter, Object) for (letter, type) in zip(\"abcdefg\", types)]\n",
    "        \n",
    "        axiom = Implies(And(t(x) for (x, t) in variables), claim(*[letter for letter, _ in variables])\n",
    "        self.solver.add()\n",
    "        pass\n",
    "\n",
    "agent = Agent()\n",
    "agent.check_forall([Human], lambda x: Mortal(x))"
   ]
  },
  {
   "cell_type": "code",
   "execution_count": null,
   "metadata": {
    "collapsed": true,
    "deletable": true,
    "editable": true
   },
   "outputs": [],
   "source": []
  }
 ],
 "metadata": {
  "kernelspec": {
   "display_name": "Python 2",
   "language": "python",
   "name": "python2"
  },
  "language_info": {
   "codemirror_mode": {
    "name": "ipython",
    "version": 2
   },
   "file_extension": ".py",
   "mimetype": "text/x-python",
   "name": "python",
   "nbconvert_exporter": "python",
   "pygments_lexer": "ipython2",
   "version": "2.7.13"
  }
 },
 "nbformat": 4,
 "nbformat_minor": 2
}
