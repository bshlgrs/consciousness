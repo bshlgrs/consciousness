{
 "cells": [
  {
   "cell_type": "code",
   "execution_count": 3,
   "metadata": {
    "collapsed": false,
    "deletable": true,
    "editable": true
   },
   "outputs": [
    {
     "name": "stdout",
     "output_type": "stream",
     "text": [
      "No, that's not true. Eg:\n",
      "[a!3 = Object!val!0,\n",
      " Human = [else -> False],\n",
      " Mortal = [else -> True]]\n"
     ]
    },
    {
     "ename": "TypeError",
     "evalue": "Exists() takes at least 2 arguments (0 given)",
     "output_type": "error",
     "traceback": [
      "\u001b[0;31m---------------------------------------------------------------------------\u001b[0m",
      "\u001b[0;31mTypeError\u001b[0m                                 Traceback (most recent call last)",
      "\u001b[0;32m<ipython-input-3-d415c3fe3ac7>\u001b[0m in \u001b[0;36m<module>\u001b[0;34m()\u001b[0m\n\u001b[1;32m     44\u001b[0m \u001b[0;32mprint\u001b[0m \u001b[0magent\u001b[0m\u001b[0;34m.\u001b[0m\u001b[0mcheck_forall\u001b[0m\u001b[0;34m(\u001b[0m\u001b[0;34m[\u001b[0m\u001b[0mMortal\u001b[0m\u001b[0;34m]\u001b[0m\u001b[0;34m,\u001b[0m \u001b[0;32mlambda\u001b[0m \u001b[0mx\u001b[0m\u001b[0;34m:\u001b[0m \u001b[0mHuman\u001b[0m\u001b[0;34m(\u001b[0m\u001b[0mx\u001b[0m\u001b[0;34m)\u001b[0m\u001b[0;34m)\u001b[0m\u001b[0;34m\u001b[0m\u001b[0m\n\u001b[1;32m     45\u001b[0m \u001b[0;34m\u001b[0m\u001b[0m\n\u001b[0;32m---> 46\u001b[0;31m \u001b[0mExists\u001b[0m\u001b[0;34m(\u001b[0m\u001b[0;34m)\u001b[0m\u001b[0;34m\u001b[0m\u001b[0m\n\u001b[0m",
      "\u001b[0;31mTypeError\u001b[0m: Exists() takes at least 2 arguments (0 given)"
     ]
    }
   ],
   "source": [
    "from z3 import *\n",
    "\n",
    "set_param(proof=True)\n",
    "\n",
    "Object = DeclareSort('Object')\n",
    "\n",
    "Human = Function('Human', Object, BoolSort())\n",
    "Mortal = Function('Mortal', Object, BoolSort())\n",
    "        \n",
    "x = Const('x', Object)\n",
    "\n",
    "# a well known philosopher \n",
    "socrates = Const('socrates', Object)\n",
    "\n",
    "class Agent:\n",
    "    def __init__(self):\n",
    "        self.solver = Solver()\n",
    "        axioms = [ForAll([x], Implies(Human(x), Mortal(x)))]\n",
    "        \n",
    "        self.solver.add(axioms)\n",
    "        \n",
    "        \n",
    "    def build_forall(self, types, claim_func):\n",
    "        variables = [(Const(letter, Object), type) for (letter, type) in zip(\"abcdefg\", types)]\n",
    "        claim = claim_func(*[letter for letter, _ in variables])\n",
    "\n",
    "        premises = And([t(x) for (x, t) in variables])\n",
    "        axiom = Implies(premises, claim)\n",
    "        \n",
    "        return ForAll([letter for letter, _ in variables], axiom)\n",
    "        \n",
    "    def check_forall(self, types, claim_func):\n",
    "        if self.solver.check() == \"unsat\":\n",
    "            return \"oh dear, my beliefs are inconsistent\"\n",
    "        \n",
    "        self.solver.add(Not(self.build_forall(types, claim_func)))\n",
    "        \n",
    "        if self.solver.check() == unsat:\n",
    "            return \"Yes, that is reasonable\"\n",
    "        else:\n",
    "            return \"No, that's not true. Eg:\\n\" + str(self.solver.model())\n",
    "\n",
    "agent = Agent()\n",
    "print agent.check_forall([Mortal], lambda x: Human(x))\n",
    "\n",
    "Exists()\n"
   ]
  },
  {
   "cell_type": "code",
   "execution_count": 10,
   "metadata": {
    "collapsed": false,
    "deletable": true,
    "editable": true
   },
   "outputs": [
    {
     "name": "stdout",
     "output_type": "stream",
     "text": [
      "sat\n",
      "[BlueQuale = Quale!val!2,\n",
      " x!6 = Color!val!1,\n",
      " Green = Color!val!1,\n",
      " GreenQuale = Quale!val!1,\n",
      " Red = Color!val!0,\n",
      " Blue = Color!val!2,\n",
      " RedQuale = Quale!val!0,\n",
      " f = [else -> f!29(k!25(Var(0)))],\n",
      " g = [else -> g!28(k!26(Var(0)))],\n",
      " k!26 = [Color!val!2 -> Color!val!2,\n",
      "         Color!val!0 -> Color!val!0,\n",
      "         else -> Color!val!1],\n",
      " g!28 = [Color!val!1 -> Quale!val!7,\n",
      "         Color!val!0 -> Quale!val!8,\n",
      "         else -> Quale!val!4],\n",
      " f!29 = [Color!val!1 -> Quale!val!5,\n",
      "         Color!val!0 -> Quale!val!6,\n",
      "         else -> Quale!val!3],\n",
      " k!25 = [Color!val!2 -> Color!val!2,\n",
      "         Color!val!0 -> Color!val!0,\n",
      "         else -> Color!val!1]]\n"
     ]
    }
   ],
   "source": [
    "set_param(proof=True)\n",
    "\n",
    "\n",
    "Quale = DeclareSort('Quale')\n",
    "Color = DeclareSort('Color')\n",
    "\n",
    "f = Function(\"f\", Color, Quale)\n",
    "g = Function(\"g\", Color, Quale)\n",
    "x = Const(\"x\", Color)\n",
    "y = Const(\"y\", Color)\n",
    "\n",
    "Red = Const(\"Red\", Color)\n",
    "Blue = Const(\"Blue\", Color)\n",
    "Green = Const(\"Green\", Color)\n",
    "\n",
    "RedQuale = Const(\"RedQuale\", Quale)\n",
    "BlueQuale = Const(\"BlueQuale\", Quale)\n",
    "GreenQuale = Const(\"GreenQuale\", Quale)\n",
    "\n",
    "axioms = [\n",
    "    ForAll([x, y], (x == y) == (f(x) == f(y))),\n",
    "    ForAll([x, y], (x == y) == (g(x) == g(y))),\n",
    "    ForAll([x], Or(x == Red, x == Green, x == Blue)), \n",
    "    Distinct(Red, Green, Blue),\n",
    "    Distinct(RedQuale, GreenQuale, BlueQuale),\n",
    "    Not(ForAll([x], f(x) == g(x)))]\n",
    "solver = Solver()\n",
    "solver.add(axioms)\n",
    "print solver.check()\n",
    "print solver.model()"
   ]
  },
  {
   "cell_type": "code",
   "execution_count": 49,
   "metadata": {
    "collapsed": false,
    "deletable": true,
    "editable": true
   },
   "outputs": [
    {
     "data": {
      "text/plain": [
       "{'Blue': Color!val!2,\n",
       " 'BlueQuale': Quale!val!2,\n",
       " 'Green': Color!val!1,\n",
       " 'GreenQuale': Quale!val!1,\n",
       " 'Red': Color!val!0,\n",
       " 'RedQuale': Quale!val!0,\n",
       " 'f': [else -> f!58(k!54(Var(0)))],\n",
       " 'f!58': [Color!val!1 -> Quale!val!5,\n",
       "  Color!val!0 -> Quale!val!6,\n",
       "  else -> Quale!val!3],\n",
       " 'g': [else -> g!57(k!55(Var(0)))],\n",
       " 'g!57': [Color!val!1 -> Quale!val!7,\n",
       "  Color!val!0 -> Quale!val!8,\n",
       "  else -> Quale!val!4],\n",
       " 'k!54': [Color!val!2 -> Color!val!2,\n",
       "  Color!val!0 -> Color!val!0,\n",
       "  else -> Color!val!1],\n",
       " 'k!55': [Color!val!2 -> Color!val!2,\n",
       "  Color!val!0 -> Color!val!0,\n",
       "  else -> Color!val!1],\n",
       " 'x!35': Color!val!1}"
      ]
     },
     "execution_count": 49,
     "metadata": {},
     "output_type": "execute_result"
    }
   ],
   "source": [
    "{ str(x): solver.model()[x] for x in solver.model().decls() }\n"
   ]
  },
  {
   "cell_type": "code",
   "execution_count": 51,
   "metadata": {
    "collapsed": false,
    "deletable": true,
    "editable": true
   },
   "outputs": [
    {
     "data": {
      "text/plain": [
       "k!1"
      ]
     },
     "execution_count": 51,
     "metadata": {},
     "output_type": "execute_result"
    }
   ],
   "source": [
    "Int(1)"
   ]
  },
  {
   "cell_type": "code",
   "execution_count": 22,
   "metadata": {
    "collapsed": false,
    "deletable": true,
    "editable": true
   },
   "outputs": [
    {
     "data": {
      "text/plain": [
       "<_ast.Compare at 0x103e84f50>"
      ]
     },
     "execution_count": 22,
     "metadata": {},
     "output_type": "execute_result"
    }
   ],
   "source": [
    "import ast\n",
    "\n",
    "ast.parse(\"1 + foo(x) == y\").body[0].value"
   ]
  },
  {
   "cell_type": "code",
   "execution_count": 27,
   "metadata": {
    "collapsed": false,
    "deletable": true,
    "editable": true
   },
   "outputs": [
    {
     "data": {
      "text/plain": [
       "'socrates'"
      ]
     },
     "execution_count": 27,
     "metadata": {},
     "output_type": "execute_result"
    }
   ],
   "source": [
    "str(socrates)"
   ]
  },
  {
   "cell_type": "code",
   "execution_count": 6,
   "metadata": {
    "collapsed": false,
    "deletable": true,
    "editable": true
   },
   "outputs": [],
   "source": [
    "n = BitVec('n', 4)\n"
   ]
  },
  {
   "cell_type": "code",
   "execution_count": 14,
   "metadata": {
    "collapsed": false
   },
   "outputs": [
    {
     "data": {
      "text/plain": [
       "BitVec(4)"
      ]
     },
     "execution_count": 14,
     "metadata": {},
     "output_type": "execute_result"
    }
   ],
   "source": [
    "solver.add(n > 3)\n",
    "solver.check()\n",
    "solver.model()\n",
    "\n",
    "f\n"
   ]
  },
  {
   "cell_type": "code",
   "execution_count": 18,
   "metadata": {
    "collapsed": false
   },
   "outputs": [
    {
     "data": {
      "text/plain": [
       "2"
      ]
     },
     "execution_count": 18,
     "metadata": {},
     "output_type": "execute_result"
    }
   ],
   "source": [
    "simplify(BitVecVal(3, 2) + BitVecVal(3, 2))"
   ]
  },
  {
   "cell_type": "code",
   "execution_count": null,
   "metadata": {
    "collapsed": true
   },
   "outputs": [],
   "source": []
  }
 ],
 "metadata": {
  "kernelspec": {
   "display_name": "Python 2",
   "language": "python",
   "name": "python2"
  },
  "language_info": {
   "codemirror_mode": {
    "name": "ipython",
    "version": 2
   },
   "file_extension": ".py",
   "mimetype": "text/x-python",
   "name": "python",
   "nbconvert_exporter": "python",
   "pygments_lexer": "ipython2",
   "version": "2.7.13"
  }
 },
 "nbformat": 4,
 "nbformat_minor": 2
}
