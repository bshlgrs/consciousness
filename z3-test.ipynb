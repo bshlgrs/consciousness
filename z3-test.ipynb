{
 "cells": [
  {
   "cell_type": "code",
   "execution_count": 16,
   "metadata": {
    "collapsed": false
   },
   "outputs": [
    {
     "name": "stdout",
     "output_type": "stream",
     "text": [
      "sat\n",
      "unsat\n"
     ]
    }
   ],
   "source": [
    "from z3 import *\n",
    "\n",
    "set_param(proof=True)\n",
    "\n",
    "Object = DeclareSort('Object')\n",
    "\n",
    "Human = Function('Human', Object, BoolSort())\n",
    "Mortal = Function('Mortal', Object, BoolSort())\n",
    "\n",
    "# a well known philosopher \n",
    "socrates = Const('socrates', Object)\n",
    "\n",
    "# free variables used in forall must be declared Const in python\n",
    "x = Const('x', Object)\n",
    "\n",
    "axioms = [ForAll([x], Implies(Human(x), Mortal(x))), \n",
    "          Human(socrates)]\n",
    "\n",
    "s = Solver()\n",
    "s.add(axioms)\n",
    "\n",
    "print(s.check()) # prints sat so axioms are coherents\n",
    "\n",
    "# classical refutation\n",
    "s.add(Not(Mortal(socrates)))\n",
    "\n",
    "print(s.check()) # prints unsat so socrates is Mortal\n"
   ]
  },
  {
   "cell_type": "code",
   "execution_count": null,
   "metadata": {
    "collapsed": true
   },
   "outputs": [],
   "source": []
  }
 ],
 "metadata": {
  "kernelspec": {
   "display_name": "Python 2",
   "language": "python",
   "name": "python2"
  },
  "language_info": {
   "codemirror_mode": {
    "name": "ipython",
    "version": 2
   },
   "file_extension": ".py",
   "mimetype": "text/x-python",
   "name": "python",
   "nbconvert_exporter": "python",
   "pygments_lexer": "ipython2",
   "version": "2.7.13"
  }
 },
 "nbformat": 4,
 "nbformat_minor": 2
}
