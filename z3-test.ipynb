{
 "cells": [
  {
   "cell_type": "code",
   "execution_count": 24,
   "metadata": {
    "collapsed": false,
    "deletable": true,
    "editable": true
   },
   "outputs": [
    {
     "name": "stdout",
     "output_type": "stream",
     "text": [
      "No, that's not true. Eg:\n",
      "[a!3 = Object!val!0,\n",
      " Human = [else -> False],\n",
      " Mortal = [else -> True]]\n",
      "Help on instance of ModelRef in module z3.z3:\n",
      "\n",
      "class ModelRef(Z3PPObject)\n",
      " |  Model/Solution of a satisfiability problem (aka system of constraints).\n",
      " |  \n",
      " |  Methods defined here:\n",
      " |  \n",
      " |  __del__(self)\n",
      " |  \n",
      " |  __getitem__(self, idx)\n",
      " |      If `idx` is an integer, then the declaration at position `idx` in the model `self` is returned. If `idx` is a declaration, then the actual interpreation is returned.\n",
      " |      \n",
      " |      The elements can be retrieved using position or the actual declaration.\n",
      " |      \n",
      " |      >>> f = Function('f', IntSort(), IntSort())\n",
      " |      >>> x = Int('x')\n",
      " |      >>> s = Solver()\n",
      " |      >>> s.add(x > 0, x < 2, f(x) == 0)\n",
      " |      >>> s.check()\n",
      " |      sat\n",
      " |      >>> m = s.model()\n",
      " |      >>> len(m)\n",
      " |      2\n",
      " |      >>> m[0]\n",
      " |      x\n",
      " |      >>> m[1]\n",
      " |      f\n",
      " |      >>> m[x]\n",
      " |      1\n",
      " |      >>> m[f]\n",
      " |      [1 -> 0, else -> 0]\n",
      " |      >>> for d in m: print(\"%s -> %s\" % (d, m[d]))\n",
      " |      x -> 1\n",
      " |      f -> [1 -> 0, else -> 0]\n",
      " |  \n",
      " |  __init__(self, m, ctx)\n",
      " |  \n",
      " |  __len__(self)\n",
      " |      Return the number of constant and function declarations in the model `self`.\n",
      " |      \n",
      " |      >>> f = Function('f', IntSort(), IntSort())\n",
      " |      >>> x = Int('x')\n",
      " |      >>> s = Solver()\n",
      " |      >>> s.add(x > 0, f(x) != x)\n",
      " |      >>> s.check()\n",
      " |      sat\n",
      " |      >>> m = s.model()\n",
      " |      >>> len(m)\n",
      " |      2\n",
      " |  \n",
      " |  __repr__(self)\n",
      " |  \n",
      " |  decls(self)\n",
      " |      Return a list with all symbols that have an interpreation in the model `self`.\n",
      " |      >>> f = Function('f', IntSort(), IntSort())\n",
      " |      >>> x = Int('x')\n",
      " |      >>> s = Solver()\n",
      " |      >>> s.add(x > 0, x < 2, f(x) == 0)\n",
      " |      >>> s.check()\n",
      " |      sat\n",
      " |      >>> m = s.model()\n",
      " |      >>> m.decls()\n",
      " |      [x, f]\n",
      " |  \n",
      " |  eval(self, t, model_completion=False)\n",
      " |      Evaluate the expression `t` in the model `self`. If `model_completion` is enabled, then a default interpretation is automatically added for symbols that do not have an interpretation in the model `self`.\n",
      " |      \n",
      " |      >>> x = Int('x')\n",
      " |      >>> s = Solver()\n",
      " |      >>> s.add(x > 0, x < 2)\n",
      " |      >>> s.check()\n",
      " |      sat\n",
      " |      >>> m = s.model()\n",
      " |      >>> m.eval(x + 1)\n",
      " |      2\n",
      " |      >>> m.eval(x == 1)\n",
      " |      True\n",
      " |      >>> y = Int('y')\n",
      " |      >>> m.eval(y + x)\n",
      " |      1 + y\n",
      " |      >>> m.eval(y)\n",
      " |      y\n",
      " |      >>> m.eval(y, model_completion=True)\n",
      " |      0\n",
      " |      >>> # Now, m contains an interpretation for y\n",
      " |      >>> m.eval(y + x)\n",
      " |      1\n",
      " |  \n",
      " |  evaluate(self, t, model_completion=False)\n",
      " |      Alias for `eval`.\n",
      " |      \n",
      " |      >>> x = Int('x')\n",
      " |      >>> s = Solver()\n",
      " |      >>> s.add(x > 0, x < 2)\n",
      " |      >>> s.check()\n",
      " |      sat\n",
      " |      >>> m = s.model()\n",
      " |      >>> m.evaluate(x + 1)\n",
      " |      2\n",
      " |      >>> m.evaluate(x == 1)\n",
      " |      True\n",
      " |      >>> y = Int('y')\n",
      " |      >>> m.evaluate(y + x)\n",
      " |      1 + y\n",
      " |      >>> m.evaluate(y)\n",
      " |      y\n",
      " |      >>> m.evaluate(y, model_completion=True)\n",
      " |      0\n",
      " |      >>> # Now, m contains an interpretation for y\n",
      " |      >>> m.evaluate(y + x)\n",
      " |      1\n",
      " |  \n",
      " |  get_interp(self, decl)\n",
      " |      Return the interpretation for a given declaration or constant.\n",
      " |      \n",
      " |      >>> f = Function('f', IntSort(), IntSort())\n",
      " |      >>> x = Int('x')\n",
      " |      >>> s = Solver()\n",
      " |      >>> s.add(x > 0, x < 2, f(x) == 0)\n",
      " |      >>> s.check()\n",
      " |      sat\n",
      " |      >>> m = s.model()\n",
      " |      >>> m[x]\n",
      " |      1\n",
      " |      >>> m[f]\n",
      " |      [1 -> 0, else -> 0]\n",
      " |  \n",
      " |  get_sort(self, idx)\n",
      " |      Return the unintepreted sort at position `idx` < self.num_sorts().\n",
      " |      \n",
      " |      >>> A = DeclareSort('A')\n",
      " |      >>> B = DeclareSort('B')\n",
      " |      >>> a1, a2 = Consts('a1 a2', A)\n",
      " |      >>> b1, b2 = Consts('b1 b2', B)\n",
      " |      >>> s = Solver()\n",
      " |      >>> s.add(a1 != a2, b1 != b2)\n",
      " |      >>> s.check()\n",
      " |      sat\n",
      " |      >>> m = s.model()\n",
      " |      >>> m.num_sorts()\n",
      " |      2\n",
      " |      >>> m.get_sort(0)\n",
      " |      A\n",
      " |      >>> m.get_sort(1)\n",
      " |      B\n",
      " |  \n",
      " |  get_universe(self, s)\n",
      " |      Return the intepretation for the uninterpreted sort `s` in the model `self`.\n",
      " |      \n",
      " |      >>> A = DeclareSort('A')\n",
      " |      >>> a, b = Consts('a b', A)\n",
      " |      >>> s = Solver()\n",
      " |      >>> s.add(a != b)\n",
      " |      >>> s.check()\n",
      " |      sat\n",
      " |      >>> m = s.model()\n",
      " |      >>> m.get_universe(A)\n",
      " |      [A!val!0, A!val!1]\n",
      " |  \n",
      " |  num_sorts(self)\n",
      " |      Return the number of unintepreted sorts that contain an interpretation in the model `self`.\n",
      " |      \n",
      " |      >>> A = DeclareSort('A')\n",
      " |      >>> a, b = Consts('a b', A)\n",
      " |      >>> s = Solver()\n",
      " |      >>> s.add(a != b)\n",
      " |      >>> s.check()\n",
      " |      sat\n",
      " |      >>> m = s.model()\n",
      " |      >>> m.num_sorts()\n",
      " |      1\n",
      " |  \n",
      " |  sexpr(self)\n",
      " |      Return a textual representation of the s-expression representing the model.\n",
      " |  \n",
      " |  sorts(self)\n",
      " |      Return all uninterpreted sorts that have an interpretation in the model `self`.\n",
      " |      \n",
      " |      >>> A = DeclareSort('A')\n",
      " |      >>> B = DeclareSort('B')\n",
      " |      >>> a1, a2 = Consts('a1 a2', A)\n",
      " |      >>> b1, b2 = Consts('b1 b2', B)\n",
      " |      >>> s = Solver()\n",
      " |      >>> s.add(a1 != a2, b1 != b2)\n",
      " |      >>> s.check()\n",
      " |      sat\n",
      " |      >>> m = s.model()\n",
      " |      >>> m.sorts()\n",
      " |      [A, B]\n",
      " |  \n",
      " |  ----------------------------------------------------------------------\n",
      " |  Methods inherited from Z3PPObject:\n",
      " |  \n",
      " |  use_pp(self)\n",
      "\n"
     ]
    }
   ],
   "source": [
    "from z3 import *\n",
    "\n",
    "set_param(proof=True)\n",
    "\n",
    "Object = DeclareSort('Object')\n",
    "\n",
    "Human = Function('Human', Object, BoolSort())\n",
    "Mortal = Function('Mortal', Object, BoolSort())\n",
    "        \n",
    "x = Const('x', Object)\n",
    "\n",
    "# a well known philosopher \n",
    "socrates = Const('socrates', Object)\n",
    "\n",
    "class Agent:\n",
    "    def __init__(self):\n",
    "        self.solver = Solver()\n",
    "        axioms = [ForAll([x], Implies(Human(x), Mortal(x)))]\n",
    "        \n",
    "        self.solver.add(axioms)\n",
    "        \n",
    "        \n",
    "    def build_forall(self, types, claim_func):\n",
    "        variables = [(Const(letter, Object), type) for (letter, type) in zip(\"abcdefg\", types)]\n",
    "        claim = claim_func(*[letter for letter, _ in variables])\n",
    "\n",
    "        premises = And([t(x) for (x, t) in variables])\n",
    "        axiom = Implies(premises, claim)\n",
    "        \n",
    "        return ForAll([letter for letter, _ in variables], axiom)\n",
    "        \n",
    "    def check_forall(self, types, claim_func):\n",
    "        if self.solver.check() == \"unsat\":\n",
    "            return \"oh dear, my beliefs are inconsistent\"\n",
    "        \n",
    "        self.solver.add(Not(self.build_forall(types, claim_func)))\n",
    "        \n",
    "        if self.solver.check() == unsat:\n",
    "            return \"Yes, that is reasonable\"\n",
    "        else:\n",
    "            return \"No, that's not true. Eg:\\n\" + str(self.solver.model())\n",
    "\n",
    "agent = Agent()\n",
    "print agent.check_forall([Mortal], lambda x: Human(x))\n",
    "\n",
    "help(agent.solver.model())"
   ]
  },
  {
   "cell_type": "code",
   "execution_count": 45,
   "metadata": {
    "collapsed": false,
    "deletable": true,
    "editable": true
   },
   "outputs": [
    {
     "name": "stdout",
     "output_type": "stream",
     "text": [
      "sat\n",
      "[BlueQuale = Quale!val!2,\n",
      " x!35 = Color!val!1,\n",
      " Green = Color!val!1,\n",
      " GreenQuale = Quale!val!1,\n",
      " Red = Color!val!0,\n",
      " Blue = Color!val!2,\n",
      " RedQuale = Quale!val!0,\n",
      " k!54 = [Color!val!2 -> Color!val!2,\n",
      "         Color!val!0 -> Color!val!0,\n",
      "         else -> Color!val!1],\n",
      " f!58 = [Color!val!1 -> Quale!val!5,\n",
      "         Color!val!0 -> Quale!val!6,\n",
      "         else -> Quale!val!3],\n",
      " f = [else -> f!58(k!54(Var(0)))],\n",
      " g = [else -> g!57(k!55(Var(0)))],\n",
      " g!57 = [Color!val!1 -> Quale!val!7,\n",
      "         Color!val!0 -> Quale!val!8,\n",
      "         else -> Quale!val!4],\n",
      " k!55 = [Color!val!2 -> Color!val!2,\n",
      "         Color!val!0 -> Color!val!0,\n",
      "         else -> Color!val!1]]\n"
     ]
    }
   ],
   "source": [
    "set_param(proof=True)\n",
    "\n",
    "\n",
    "Quale = DeclareSort('Quale')\n",
    "Color = DeclareSort('Color')\n",
    "\n",
    "f = Function(\"f\", Color, Quale)\n",
    "g = Function(\"g\", Color, Quale)\n",
    "x = Const(\"x\", Color)\n",
    "y = Const(\"y\", Color)\n",
    "\n",
    "Red = Const(\"Red\", Color)\n",
    "Blue = Const(\"Blue\", Color)\n",
    "Green = Const(\"Green\", Color)\n",
    "\n",
    "RedQuale = Const(\"RedQuale\", Quale)\n",
    "BlueQuale = Const(\"BlueQuale\", Quale)\n",
    "GreenQuale = Const(\"GreenQuale\", Quale)\n",
    "\n",
    "axioms = [\n",
    "    ForAll([x, y], (x == y) == (f(x) == f(y))),\n",
    "    ForAll([x, y], (x == y) == (g(x) == g(y))),\n",
    "    ForAll([x], Or(x == Red, x == Green, x == Blue)), \n",
    "    Distinct(Red, Green, Blue),\n",
    "    Distinct(RedQuale, GreenQuale, BlueQuale),\n",
    "    Not(ForAll([x], f(x) == g(x)))]\n",
    "solver = Solver()\n",
    "solver.add(axioms)\n",
    "print solver.check()\n",
    "print solver.model()"
   ]
  },
  {
   "cell_type": "code",
   "execution_count": 49,
   "metadata": {
    "collapsed": false,
    "deletable": true,
    "editable": true
   },
   "outputs": [
    {
     "data": {
      "text/plain": [
       "{'Blue': Color!val!2,\n",
       " 'BlueQuale': Quale!val!2,\n",
       " 'Green': Color!val!1,\n",
       " 'GreenQuale': Quale!val!1,\n",
       " 'Red': Color!val!0,\n",
       " 'RedQuale': Quale!val!0,\n",
       " 'f': [else -> f!58(k!54(Var(0)))],\n",
       " 'f!58': [Color!val!1 -> Quale!val!5,\n",
       "  Color!val!0 -> Quale!val!6,\n",
       "  else -> Quale!val!3],\n",
       " 'g': [else -> g!57(k!55(Var(0)))],\n",
       " 'g!57': [Color!val!1 -> Quale!val!7,\n",
       "  Color!val!0 -> Quale!val!8,\n",
       "  else -> Quale!val!4],\n",
       " 'k!54': [Color!val!2 -> Color!val!2,\n",
       "  Color!val!0 -> Color!val!0,\n",
       "  else -> Color!val!1],\n",
       " 'k!55': [Color!val!2 -> Color!val!2,\n",
       "  Color!val!0 -> Color!val!0,\n",
       "  else -> Color!val!1],\n",
       " 'x!35': Color!val!1}"
      ]
     },
     "execution_count": 49,
     "metadata": {},
     "output_type": "execute_result"
    }
   ],
   "source": [
    "{ str(x): solver.model()[x] for x in solver.model().decls() }\n"
   ]
  },
  {
   "cell_type": "code",
   "execution_count": 51,
   "metadata": {
    "collapsed": false,
    "deletable": true,
    "editable": true
   },
   "outputs": [
    {
     "data": {
      "text/plain": [
       "k!1"
      ]
     },
     "execution_count": 51,
     "metadata": {},
     "output_type": "execute_result"
    }
   ],
   "source": [
    "Int(1)"
   ]
  },
  {
   "cell_type": "code",
   "execution_count": 22,
   "metadata": {
    "collapsed": false,
    "deletable": true,
    "editable": true
   },
   "outputs": [
    {
     "data": {
      "text/plain": [
       "<_ast.Compare at 0x103e84f50>"
      ]
     },
     "execution_count": 22,
     "metadata": {},
     "output_type": "execute_result"
    }
   ],
   "source": [
    "import ast\n",
    "\n",
    "ast.parse(\"1 + foo(x) == y\").body[0].value"
   ]
  },
  {
   "cell_type": "code",
   "execution_count": 27,
   "metadata": {
    "collapsed": false
   },
   "outputs": [
    {
     "data": {
      "text/plain": [
       "'socrates'"
      ]
     },
     "execution_count": 27,
     "metadata": {},
     "output_type": "execute_result"
    }
   ],
   "source": [
    "str(socrates)"
   ]
  },
  {
   "cell_type": "code",
   "execution_count": null,
   "metadata": {
    "collapsed": true
   },
   "outputs": [],
   "source": []
  }
 ],
 "metadata": {
  "kernelspec": {
   "display_name": "Python 2",
   "language": "python",
   "name": "python2"
  },
  "language_info": {
   "codemirror_mode": {
    "name": "ipython",
    "version": 2
   },
   "file_extension": ".py",
   "mimetype": "text/x-python",
   "name": "python",
   "nbconvert_exporter": "python",
   "pygments_lexer": "ipython2",
   "version": "2.7.13"
  }
 },
 "nbformat": 4,
 "nbformat_minor": 2
}
